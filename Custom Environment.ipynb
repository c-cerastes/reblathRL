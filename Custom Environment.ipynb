{
 "cells": [
  {
   "cell_type": "code",
   "execution_count": 1,
   "id": "63055c4c",
   "metadata": {},
   "outputs": [],
   "source": [
    "# gym stuff\n",
    "import gym\n",
    "from gym import Env\n",
    "from gym.spaces import Discrete, Box, Dict, Tuple, MultiBinary, MultiDiscrete\n",
    "\n",
    "# import helpers\n",
    "import numpy as np\n",
    "import random\n",
    "import os\n",
    "\n",
    "# import stable baselines stuff\n",
    "from stable_baselines3 import PPO\n",
    "from stable_baselines3.common.vec_env import DummyVecEnv\n",
    "from stable_baselines3.common.evaluation import evaluate_policy\n",
    "from stable_baselines3.common.env_checker import check_env"
   ]
  },
  {
   "cell_type": "code",
   "execution_count": 2,
   "id": "a0ae6d45",
   "metadata": {},
   "outputs": [
    {
     "data": {
      "text/plain": [
       "1"
      ]
     },
     "execution_count": 2,
     "metadata": {},
     "output_type": "execute_result"
    }
   ],
   "source": [
    "Discrete(3).sample()"
   ]
  },
  {
   "cell_type": "code",
   "execution_count": 3,
   "id": "952033e0",
   "metadata": {},
   "outputs": [
    {
     "data": {
      "text/plain": [
       "array([[1.3720378 , 1.0108801 , 0.42045   ],\n",
       "       [0.12890296, 0.9596579 , 1.4612517 ],\n",
       "       [0.8304746 , 1.6407046 , 2.260023  ]], dtype=float32)"
      ]
     },
     "execution_count": 3,
     "metadata": {},
     "output_type": "execute_result"
    }
   ],
   "source": [
    "Box(0,3,shape=(3,3)).sample()"
   ]
  },
  {
   "cell_type": "code",
   "execution_count": 4,
   "id": "613a932f",
   "metadata": {},
   "outputs": [
    {
     "data": {
      "text/plain": [
       "(2,\n",
       " array([[0.507527  , 0.6750211 , 2.3143785 ],\n",
       "        [0.15607339, 0.42753857, 1.0038663 ],\n",
       "        [0.7174326 , 1.1526558 , 2.9562056 ]], dtype=float32))"
      ]
     },
     "execution_count": 4,
     "metadata": {},
     "output_type": "execute_result"
    }
   ],
   "source": [
    "Tuple((Discrete(3),Box(0,3,shape=(3,3)))).sample()"
   ]
  },
  {
   "cell_type": "code",
   "execution_count": 5,
   "id": "e28b46ab",
   "metadata": {},
   "outputs": [
    {
     "data": {
      "text/plain": [
       "OrderedDict([('box',\n",
       "              array([[66.64223  , 89.85359  , 24.784348 ],\n",
       "                     [78.77613  ,  0.5045652, 52.817875 ],\n",
       "                     [52.89297  , 51.825577 ,  7.0877304]], dtype=float32)),\n",
       "             ('length', 2),\n",
       "             ('width', 0)])"
      ]
     },
     "execution_count": 5,
     "metadata": {},
     "output_type": "execute_result"
    }
   ],
   "source": [
    "Dict({'length':Discrete(3),'width':Discrete(2),'box':Box(0,100,shape=(3,3))}).sample()"
   ]
  },
  {
   "cell_type": "code",
   "execution_count": 6,
   "id": "f92d1f20",
   "metadata": {},
   "outputs": [
    {
     "data": {
      "text/plain": [
       "array([1, 0, 0, 1, 0, 1, 1, 1], dtype=int8)"
      ]
     },
     "execution_count": 6,
     "metadata": {},
     "output_type": "execute_result"
    }
   ],
   "source": [
    "MultiBinary(8).sample()"
   ]
  },
  {
   "cell_type": "code",
   "execution_count": 7,
   "id": "f389cdd7",
   "metadata": {},
   "outputs": [
    {
     "name": "stdout",
     "output_type": "stream",
     "text": [
      "[2 3]\n",
      "3\n"
     ]
    }
   ],
   "source": [
    "inputaction = MultiDiscrete([4,5]).sample()\n",
    "print(inputaction)\n",
    "print(inputaction[1])"
   ]
  },
  {
   "cell_type": "code",
   "execution_count": 8,
   "id": "b15694e3",
   "metadata": {},
   "outputs": [
    {
     "data": {
      "text/plain": [
       "0"
      ]
     },
     "execution_count": 8,
     "metadata": {},
     "output_type": "execute_result"
    }
   ],
   "source": [
    "Dict({'Reblaths':MultiDiscrete([41,41,41,41]),'Failstacks':MultiDiscrete([401,401,401,401,401])}).sample()['Reblaths'][0]"
   ]
  },
  {
   "cell_type": "code",
   "execution_count": 9,
   "id": "51aa80d3",
   "metadata": {},
   "outputs": [
    {
     "data": {
      "text/plain": [
       "{'Reblaths': [41, 41, 41, 41], 'Failstacks': [0, 0, 0, 0, 0]}"
      ]
     },
     "execution_count": 9,
     "metadata": {},
     "output_type": "execute_result"
    }
   ],
   "source": [
    "{'Reblaths':[41,41,41,41],'Failstacks':[0,0,0,0,0]}"
   ]
  },
  {
   "cell_type": "code",
   "execution_count": 10,
   "id": "251c7b2f",
   "metadata": {},
   "outputs": [
    {
     "name": "stdout",
     "output_type": "stream",
     "text": [
      "3\n",
      "False\n",
      "100\n",
      "0.003\n",
      "0.03270000000000001\n",
      "[20, 5, 10, 99, 100]\n",
      "[5, 10, 20, 99, 100]\n",
      "0.47724844271607336\n"
     ]
    }
   ],
   "source": [
    "selfstate = {'Reblaths':[40,0,0,0],'Failstacks':[20,5,10,99,100]}\n",
    "testing = [3,4]\n",
    "print(testing[0])\n",
    "print(selfstate['Reblaths'][testing[0]]>0)\n",
    "print(selfstate['Failstacks'][testing[1]])\n",
    "match testing[0]:\n",
    "    case 0: basechance = .076923\n",
    "    case 1: basechance = .062500\n",
    "    case 2: basechance = .020000\n",
    "    case 3: basechance = .003000\n",
    "print(basechance)\n",
    "enhancementchance = basechance + .1*basechance*selfstate['Failstacks'][testing[1]-1]\n",
    "print(enhancementchance)\n",
    "print(selfstate['Failstacks'])\n",
    "selfstate['Failstacks'].sort()\n",
    "print(selfstate['Failstacks'])\n",
    "print(np.random.random(1)[0])"
   ]
  },
  {
   "cell_type": "code",
   "execution_count": 24,
   "id": "d5b765d2",
   "metadata": {},
   "outputs": [],
   "source": [
    "PPO??"
   ]
  },
  {
   "cell_type": "code",
   "execution_count": 11,
   "id": "972c1de4",
   "metadata": {},
   "outputs": [],
   "source": [
    "# shell\n",
    "class ReblathEnv(Env):\n",
    "    def __init__(self):\n",
    "        self.action_space = MultiDiscrete([4,5])\n",
    "        self.observation_space = Dict({'Reblaths':MultiDiscrete([41,41,41,41]),'Failstacks':MultiDiscrete([401,401,401,401,401])})\n",
    "        self.state = {'Reblaths':np.array([40,0,0,0]),'Failstacks':np.array([20,20,20,20,20])}\n",
    "        self.total_taps = 8192\n",
    "        self.stacks_hit = 0\n",
    "        self.starti = 20\n",
    "        \n",
    "    def step(self, action):\n",
    "        reward = 0 # initializes the reward\n",
    "        # perform the action\n",
    "        if self.state['Reblaths'][action[0]]>0: # if the number of reblaths in the selected reblath type is greater than 0\n",
    "            # self.state['Failstacks'][action[1]] # current selected failstack amount\n",
    "            # self.state['Reblaths'][action[0]] # current selected reblath amount\n",
    "            # action[0] # current selected reblath tier\n",
    "            match action[0]: # observes what tier of reblath you're enhancing, determines the base enhancement chance\n",
    "                case 0: basechance = .076923\n",
    "                case 1: basechance = .062500\n",
    "                case 2: basechance = .020000\n",
    "                case 3: basechance = .003000\n",
    "            enhancementchance = basechance + .1*basechance*self.state['Failstacks'][action[1]] #determines the enhancement chance\n",
    "            if np.random.random(1)[0] < enhancementchance: # if the enhancement succeeds\n",
    "                if action[0]==3: # and tet->pen reblath succeeded\n",
    "                    self.state['Reblaths'][action[0]] -= 1 # decrease the current amount of reblath in that tier by 1\n",
    "                    self.state['Reblaths'][0] += 1 #obtain another pri reblath\n",
    "                    #reward += 70-self.state['Failstacks'][action[1]]\n",
    "                    reward += enhancementchance*(70-self.state['Failstacks'][action[1]])+(1-enhancementchance)*(3+action[0])\n",
    "                    self.state['Failstacks'][action[1]] = 70 # set the failstack to 70 (devour)\n",
    "                else: # and it was any other tier of reblath that succeeded\n",
    "                    self.state['Reblaths'][action[0]] -= 1 # decrease the current amount of reblath in that tier by 1\n",
    "                    self.state['Reblaths'][action[0]+1] += 1 # increase the current amount of reblath in next tier by 1\n",
    "                    #reward += 20-self.state['Failstacks'][action[1]]\n",
    "                    reward += enhancementchance*(self.starti-self.state['Failstacks'][action[1]])+(1-enhancementchance)*(3+action[0])\n",
    "                    self.state['Failstacks'][action[1]] = self.starti # set the failstack to the starting stack\n",
    "            else: # if the enhancement fails\n",
    "                if action[0]==0: #and it was pri->duo reblath that failed\n",
    "                    reward += 3 + action[0]\n",
    "                    self.state['Failstacks'][action[1]] += 3+action[0] # increase failstack by 3+index (3,4,5,6)\n",
    "                else: # and it was any other tier of reblath that failed\n",
    "                    self.state['Reblaths'][action[0]] -= 1 # decrease the current amount of reblath in that tier by 1\n",
    "                    self.state['Reblaths'][action[0]-1] += 1 # increase the current amount of reblath in previous tier by 1\n",
    "                    reward += 3 + action[0]\n",
    "                    self.state['Failstacks'][action[1]] += 3+action[0] # increase failstack by 3+index (3,4,5,6)\n",
    "        else: #if the number of reblaths in the selected reblath type is not greater than 0\n",
    "            reward -= 90 # cant enhance something that doesnt exist! bad!\n",
    "            #self.total_taps +=1\n",
    "\n",
    "        if self.state['Failstacks'][action[1]] >= 110: # if the bot actually made a 110 stack with this action \n",
    "            reward += 110 # gives a good reward payout\n",
    "            self.state['Failstacks'][action[1]] = 20 # sets the failstack value to 20\n",
    "            self.stacks_hit += 1\n",
    "        \n",
    "        self.total_taps -= 1\n",
    "        if self.total_taps <=0:\n",
    "            done = True\n",
    "        else:\n",
    "            done = False\n",
    "        self.state['Failstacks'].sort()\n",
    "        info = {\"Stacks Hit\":[self.stacks_hit],'Failstack List':[self.state['Failstacks'][0],self.state['Failstacks'][1],self.state['Failstacks'][2],self.state['Failstacks'][3],self.state['Failstacks'][4]],\"Reb List\":[self.state['Reblaths'][0],self.state['Reblaths'][1],self.state['Reblaths'][2],self.state['Reblaths'][3]]}\n",
    "        #reward = reward/116 # this is the reward normalization - impliment after experimenting with backpropagation\n",
    "        return self.state, reward, done, info\n",
    "\n",
    "    def render(self):\n",
    "        # nothing happens here\n",
    "        pass\n",
    "    def reset(self):\n",
    "        self.state = {'Reblaths':np.array([40,0,0,0]),'Failstacks':np.array([20,20,20,20,20])}\n",
    "        self.total_taps = 8192\n",
    "        self.stacks_hit = 0\n",
    "        self.state['Failstacks'].sort()\n",
    "        return self.state\n",
    "    def testcase(self):\n",
    "        self.state = {'Reblaths':np.array([0,0,0,40]),'Failstacks':np.array([20,20,20,80,105])}\n",
    "        self.total_taps = 8192\n",
    "        self.stacks_hit = 0\n",
    "        self.state['Failstacks'].sort()\n",
    "        return self.state"
   ]
  },
  {
   "cell_type": "code",
   "execution_count": 12,
   "id": "307186a3",
   "metadata": {},
   "outputs": [],
   "source": [
    "env = ReblathEnv()"
   ]
  },
  {
   "cell_type": "code",
   "execution_count": 13,
   "id": "f79da83f",
   "metadata": {},
   "outputs": [],
   "source": [
    "check_env(env)"
   ]
  },
  {
   "cell_type": "code",
   "execution_count": 14,
   "id": "42a579a3",
   "metadata": {},
   "outputs": [
    {
     "data": {
      "text/plain": [
       "OrderedDict([('Failstacks', array([318, 210, 382, 248, 264], dtype=int64)),\n",
       "             ('Reblaths', array([11,  6,  4,  0], dtype=int64))])"
      ]
     },
     "execution_count": 14,
     "metadata": {},
     "output_type": "execute_result"
    }
   ],
   "source": [
    "env.observation_space.sample()"
   ]
  },
  {
   "cell_type": "code",
   "execution_count": 15,
   "id": "a66df129",
   "metadata": {},
   "outputs": [
    {
     "data": {
      "text/plain": [
       "{'Reblaths': array([ 0,  0,  0, 40]),\n",
       " 'Failstacks': array([ 20,  20,  20,  80, 105])}"
      ]
     },
     "execution_count": 15,
     "metadata": {},
     "output_type": "execute_result"
    }
   ],
   "source": [
    "env.testcase()"
   ]
  },
  {
   "cell_type": "code",
   "execution_count": 16,
   "id": "6d3ff4a3",
   "metadata": {
    "scrolled": true
   },
   "outputs": [
    {
     "data": {
      "text/plain": [
       "({'Reblaths': array([ 0,  0,  0, 40]),\n",
       "  'Failstacks': array([ 20,  20,  20,  80, 105])},\n",
       " -90,\n",
       " False,\n",
       " {'Stacks Hit': [0],\n",
       "  'Failstack List': [20, 20, 20, 80, 105],\n",
       "  'Reb List': [0, 0, 0, 40]})"
      ]
     },
     "execution_count": 16,
     "metadata": {},
     "output_type": "execute_result"
    }
   ],
   "source": [
    "env.step([2,4])"
   ]
  },
  {
   "cell_type": "code",
   "execution_count": 17,
   "id": "249f31b2",
   "metadata": {},
   "outputs": [],
   "source": [
    "env.reset()"
   ]
  },
  {
   "cell_type": "code",
   "execution_count": 18,
   "id": "5d4788f3",
   "metadata": {},
   "outputs": [
    {
     "name": "stdout",
     "output_type": "stream",
     "text": [
      "Episode:1 Score:-448755.4120406005  {'Stacks Hit': [0], 'Failstack List': [32, 35, 35, 39, 44], 'Reb List': [40, 0, 0, 0]}\n",
      "Episode:2 Score:-469703.78058280057  {'Stacks Hit': [0], 'Failstack List': [20, 26, 29, 30, 37], 'Reb List': [40, 0, 0, 0]}\n",
      "Episode:3 Score:-469797.35180260014  {'Stacks Hit': [0], 'Failstack List': [20, 23, 26, 42, 45], 'Reb List': [40, 0, 0, 0]}\n",
      "Episode:4 Score:-448056.0620184  {'Stacks Hit': [0], 'Failstack List': [20, 24, 37, 43, 45], 'Reb List': [40, 0, 0, 0]}\n",
      "Episode:5 Score:-458112.79906420014  {'Stacks Hit': [0], 'Failstack List': [20, 20, 23, 29, 44], 'Reb List': [39, 1, 0, 0]}\n",
      "Episode:6 Score:-459493.3647438001  {'Stacks Hit': [0], 'Failstack List': [20, 27, 29, 31, 39], 'Reb List': [40, 0, 0, 0]}\n",
      "Episode:7 Score:-460323.7080114001  {'Stacks Hit': [0], 'Failstack List': [26, 27, 30, 35, 36], 'Reb List': [40, 0, 0, 0]}\n",
      "Episode:8 Score:-462255.1531998006  {'Stacks Hit': [0], 'Failstack List': [20, 20, 27, 28, 39], 'Reb List': [39, 1, 0, 0]}\n",
      "Episode:9 Score:-451742.13316620013  {'Stacks Hit': [0], 'Failstack List': [20, 29, 29, 35, 40], 'Reb List': [39, 1, 0, 0]}\n",
      "Episode:10 Score:-462708.1770390006  {'Stacks Hit': [0], 'Failstack List': [20, 20, 24, 24, 31], 'Reb List': [40, 0, 0, 0]}\n",
      "Episode:11 Score:-465474.5730596006  {'Stacks Hit': [0], 'Failstack List': [20, 23, 24, 32, 34], 'Reb List': [40, 0, 0, 0]}\n",
      "Episode:12 Score:-462096.56634060043  {'Stacks Hit': [0], 'Failstack List': [23, 30, 32, 37, 38], 'Reb List': [40, 0, 0, 0]}\n",
      "Episode:13 Score:-468431.4442118002  {'Stacks Hit': [0], 'Failstack List': [20, 20, 24, 28, 29], 'Reb List': [40, 0, 0, 0]}\n",
      "Episode:14 Score:-439309.0609214  {'Stacks Hit': [0], 'Failstack List': [20, 23, 27, 38, 39], 'Reb List': [40, 0, 0, 0]}\n",
      "Episode:15 Score:-458614.54618739994  {'Stacks Hit': [0], 'Failstack List': [23, 26, 29, 38, 53], 'Reb List': [40, 0, 0, 0]}\n",
      "Episode:16 Score:-461010.32723379985  {'Stacks Hit': [0], 'Failstack List': [20, 20, 24, 26, 33], 'Reb List': [39, 0, 1, 0]}\n",
      "Episode:17 Score:-456608.73468859994  {'Stacks Hit': [0], 'Failstack List': [20, 23, 24, 31, 42], 'Reb List': [40, 0, 0, 0]}\n",
      "Episode:18 Score:-458643.7821506006  {'Stacks Hit': [0], 'Failstack List': [20, 23, 29, 33, 39], 'Reb List': [39, 0, 1, 0]}\n",
      "Episode:19 Score:-459102.9183880004  {'Stacks Hit': [0], 'Failstack List': [26, 27, 30, 33, 42], 'Reb List': [40, 0, 0, 0]}\n",
      "Episode:20 Score:-459113.5509904004  {'Stacks Hit': [0], 'Failstack List': [26, 30, 33, 36, 40], 'Reb List': [40, 0, 0, 0]}\n"
     ]
    }
   ],
   "source": [
    "episodes = 20\n",
    "for episode in range(1,episodes+1):\n",
    "    obs = env.reset()\n",
    "    done = False\n",
    "    score = 0\n",
    "    \n",
    "    while not done:\n",
    "        action = env.action_space.sample()\n",
    "        obs, reward, done, info = env.step(action)\n",
    "        score+=reward\n",
    "    print('Episode:{} Score:{}  {}'.format(episode,score,info))"
   ]
  },
  {
   "cell_type": "code",
   "execution_count": 19,
   "id": "b095307d",
   "metadata": {},
   "outputs": [],
   "source": [
    "log_path = os.path.join('training','logs')\n",
    "model = PPO('MultiInputPolicy',env, verbose=0,tensorboard_log=log_path,learning_rate=.0005)"
   ]
  },
  {
   "cell_type": "code",
   "execution_count": 20,
   "id": "84b42f26",
   "metadata": {
    "scrolled": true
   },
   "outputs": [
    {
     "data": {
      "text/plain": [
       "<stable_baselines3.ppo.ppo.PPO at 0x20fa3f0b5e0>"
      ]
     },
     "execution_count": 20,
     "metadata": {},
     "output_type": "execute_result"
    }
   ],
   "source": [
    "env.reset()\n",
    "model.learn(total_timesteps=10000)"
   ]
  },
  {
   "cell_type": "code",
   "execution_count": 21,
   "id": "7d28bfe6",
   "metadata": {},
   "outputs": [],
   "source": [
    "reblath_path = os.path.join('training','models','reblath_PPO_average_6milly')\n",
    "model.save(reblath_path)"
   ]
  },
  {
   "cell_type": "code",
   "execution_count": 129,
   "id": "c56ff70b",
   "metadata": {},
   "outputs": [],
   "source": [
    "del model"
   ]
  },
  {
   "cell_type": "code",
   "execution_count": 130,
   "id": "2d509fa4",
   "metadata": {},
   "outputs": [
    {
     "name": "stdout",
     "output_type": "stream",
     "text": [
      "Wrapping the env with a `Monitor` wrapper\n",
      "Wrapping the env in a DummyVecEnv.\n"
     ]
    }
   ],
   "source": [
    "model = PPO.load(reblath_path,env)"
   ]
  },
  {
   "cell_type": "code",
   "execution_count": 22,
   "id": "3b73de4e",
   "metadata": {},
   "outputs": [
    {
     "name": "stdout",
     "output_type": "stream",
     "text": [
      "Episode:1 Score:21314.572847199754 {'Stacks Hit': [10], 'Failstack List': [28, 52, 53, 53, 94], 'Reb List': [40, 0, 0, 0]}\n",
      "Episode:2 Score:20843.186666599813 {'Stacks Hit': [8], 'Failstack List': [26, 26, 27, 27, 65], 'Reb List': [39, 1, 0, 0]}\n",
      "Episode:3 Score:19973.827246199777 {'Stacks Hit': [1], 'Failstack List': [23, 23, 48, 49, 66], 'Reb List': [40, 0, 0, 0]}\n",
      "Episode:4 Score:20410.193979199837 {'Stacks Hit': [5], 'Failstack List': [28, 31, 39, 42, 76], 'Reb List': [38, 2, 0, 0]}\n",
      "Episode:5 Score:21135.747265599854 {'Stacks Hit': [10], 'Failstack List': [27, 27, 43, 48, 79], 'Reb List': [39, 1, 0, 0]}\n",
      "Episode:6 Score:10905.405001199882 {'Stacks Hit': [4], 'Failstack List': [26, 27, 29, 48, 80], 'Reb List': [40, 0, 0, 0]}\n",
      "Episode:7 Score:3105.6774411999886 {'Stacks Hit': [8], 'Failstack List': [20, 28, 30, 42, 73], 'Reb List': [39, 1, 0, 0]}\n",
      "Episode:8 Score:20599.114819199815 {'Stacks Hit': [5], 'Failstack List': [20, 20, 23, 26, 46], 'Reb List': [38, 1, 0, 1]}\n",
      "Episode:9 Score:20921.636153999778 {'Stacks Hit': [8], 'Failstack List': [26, 32, 36, 37, 59], 'Reb List': [40, 0, 0, 0]}\n",
      "Episode:10 Score:20816.11030299986 {'Stacks Hit': [6], 'Failstack List': [27, 30, 48, 50, 70], 'Reb List': [40, 0, 0, 0]}\n"
     ]
    },
    {
     "data": {
      "text/plain": [
       "{'Reblaths': array([40,  0,  0,  0]),\n",
       " 'Failstacks': array([20, 20, 20, 20, 20])}"
      ]
     },
     "execution_count": 22,
     "metadata": {},
     "output_type": "execute_result"
    }
   ],
   "source": [
    "episodes = 10\n",
    "for episode in range(1,episodes+1):\n",
    "    obs = env.reset()\n",
    "    done = False\n",
    "    score = 0\n",
    "    \n",
    "    while not done:\n",
    "        action = model.predict(obs)[0] # now using model here\n",
    "        obs, reward, done, info = env.step(action)\n",
    "        score+=reward\n",
    "    print('Episode:{} Score:{} {}'.format(episode,score,info))\n",
    "env.reset()"
   ]
  },
  {
   "cell_type": "code",
   "execution_count": 30,
   "id": "75e13b6e",
   "metadata": {},
   "outputs": [
    {
     "data": {
      "text/plain": [
       "{'Reblaths': [40, 0, 0, 0], 'Failstacks': [20, 20, 20, 20, 20]}"
      ]
     },
     "execution_count": 30,
     "metadata": {},
     "output_type": "execute_result"
    }
   ],
   "source": [
    "env.reset()"
   ]
  },
  {
   "cell_type": "code",
   "execution_count": 23,
   "id": "6005aea7",
   "metadata": {},
   "outputs": [
    {
     "name": "stderr",
     "output_type": "stream",
     "text": [
      "C:\\Users\\austi\\.virtualenvs\\pyml-FJ61xwZS\\lib\\site-packages\\stable_baselines3\\common\\evaluation.py:65: UserWarning: Evaluation environment is not wrapped with a ``Monitor`` wrapper. This may result in reporting modified episode lengths and rewards, if other wrappers happen to modify these. Consider wrapping environment first with ``Monitor`` wrapper.\n",
      "  warnings.warn(\n"
     ]
    },
    {
     "data": {
      "text/plain": [
       "(20947.183492703924, 348.02318911105044)"
      ]
     },
     "execution_count": 23,
     "metadata": {},
     "output_type": "execute_result"
    }
   ],
   "source": [
    "evaluate_policy(model,env,n_eval_episodes=5)"
   ]
  },
  {
   "cell_type": "code",
   "execution_count": null,
   "id": "51e65807",
   "metadata": {},
   "outputs": [],
   "source": []
  },
  {
   "cell_type": "code",
   "execution_count": null,
   "id": "be80721c",
   "metadata": {},
   "outputs": [],
   "source": []
  }
 ],
 "metadata": {
  "kernelspec": {
   "display_name": "Python 3 (ipykernel)",
   "language": "python",
   "name": "python3"
  },
  "language_info": {
   "codemirror_mode": {
    "name": "ipython",
    "version": 3
   },
   "file_extension": ".py",
   "mimetype": "text/x-python",
   "name": "python",
   "nbconvert_exporter": "python",
   "pygments_lexer": "ipython3",
   "version": "3.10.0"
  }
 },
 "nbformat": 4,
 "nbformat_minor": 5
}
